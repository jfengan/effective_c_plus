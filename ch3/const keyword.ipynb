{
 "cells": [
  {
   "cell_type": "code",
   "execution_count": 1,
   "id": "f79f147e-5f1e-4f3d-a03e-22ead7b6df9e",
   "metadata": {},
   "outputs": [],
   "source": [
    "#include <iostream>"
   ]
  },
  {
   "cell_type": "markdown",
   "id": "9b3c66a1-436c-470e-8be8-2296ec3829c9",
   "metadata": {},
   "source": [
    "#### 1. const qualifier for built-in types and array\n",
    "\n",
    "*There is no difference whether const is ahead of the type name or behind the type name*"
   ]
  },
  {
   "cell_type": "code",
   "execution_count": 2,
   "id": "059c9a7a-2d84-4495-a87f-f98fd241c2a2",
   "metadata": {},
   "outputs": [],
   "source": [
    "const int a = 30;"
   ]
  },
  {
   "cell_type": "code",
   "execution_count": 3,
   "id": "fa4e0e71-49a8-4402-83d7-379e4f30fbf4",
   "metadata": {},
   "outputs": [],
   "source": [
    "int const b = 30;"
   ]
  },
  {
   "cell_type": "code",
   "execution_count": 4,
   "id": "ae53690a-2fe4-4ce4-897d-a354e26c33e0",
   "metadata": {},
   "outputs": [],
   "source": [
    "/* Both the value of a and b could not be changed */\n",
    "\n",
    "// a = 40; wrong\n",
    "\n",
    "/*\n",
    "input_line_10:3:3: error: cannot assign to variable 'a' with const-qualified type 'const int'\n",
    "a = 40; wrong\n",
    "~ ^\n",
    "input_line_8:2:12: note: variable 'a' declared const here\n",
    " const int a = 30;\n",
    " ~~~~~~~~~~^~~~~~\n",
    "input_line_10:3:9: error: use of undeclared identifier 'wrong'\n",
    "a = 40; wrong\n",
    "        ^\n",
    "Interpreter Error: \n",
    "*/"
   ]
  },
  {
   "cell_type": "code",
   "execution_count": 5,
   "id": "0d33ddf2-adc6-438a-9de6-e24b0ad62d28",
   "metadata": {},
   "outputs": [],
   "source": [
    "/*\n",
    "Also the value under const qualifier should be initialized\n",
    "*/ \n",
    "\n",
    "//const int c;\n",
    "\n",
    "/*\n",
    "input_line_11:5:11: error: default initialization of an object of const type 'const int'\n",
    "const int c; wrong\n",
    "          ^\n",
    "            = 0\n",
    "input_line_11:5:14: error: use of undeclared identifier 'wrong'\n",
    "const int c; wrong\n",
    "             ^\n",
    "Interpreter Error: \n",
    "*/"
   ]
  },
  {
   "cell_type": "markdown",
   "id": "3d871385-468c-443a-a4c6-419b6c0b347b",
   "metadata": {},
   "source": [
    "#### 2. Const with pointers"
   ]
  },
  {
   "cell_type": "markdown",
   "id": "8115bf36-afc7-4509-bc9b-10c2060973b5",
   "metadata": {},
   "source": [
    "***a. Point to const values***"
   ]
  },
  {
   "cell_type": "code",
   "execution_count": 6,
   "id": "ee345bca-1641-4394-a08c-15d09ec06804",
   "metadata": {},
   "outputs": [],
   "source": [
    "const double pi = 3.1415926;\n",
    "const double *ptr1 = &pi;\n",
    "double const *ptr2 = &pi;"
   ]
  },
  {
   "cell_type": "code",
   "execution_count": 7,
   "id": "08d5a573-19cb-4c58-8ae5-81e7ca634180",
   "metadata": {},
   "outputs": [],
   "source": [
    "/* The value cannot be amended thru pointers*/\n",
    "\n",
    "// *ptr1=42;\n",
    "\n",
    "/*\n",
    "input_line_13:3:6: error: read-only variable is not assignable\n",
    "*ptr1=42;\n",
    "~~~~~^\n",
    "Interpreter Error: \n",
    "*/"
   ]
  },
  {
   "cell_type": "code",
   "execution_count": 8,
   "id": "183d5068-2505-421e-9185-73bbbdfd3bf5",
   "metadata": {},
   "outputs": [],
   "source": [
    "/*The const double * could also point to a double variant, but cannot amend the value\n",
    "*/\n",
    "double val = 3.14;\n",
    "const double * ptr3 = &val;"
   ]
  },
  {
   "cell_type": "code",
   "execution_count": 9,
   "id": "b4da170e-abe0-4580-b722-e7bc8f38eaea",
   "metadata": {},
   "outputs": [
    {
     "data": {
      "text/plain": [
       "3.1400000"
      ]
     },
     "execution_count": 9,
     "metadata": {},
     "output_type": "execute_result"
    }
   ],
   "source": [
    "*ptr3"
   ]
  },
  {
   "cell_type": "code",
   "execution_count": 10,
   "id": "05c73239-aeda-4ea8-9e19-f2e74f0205f6",
   "metadata": {},
   "outputs": [],
   "source": [
    "double e = 2.71;\n",
    "ptr3 = &e;"
   ]
  },
  {
   "cell_type": "code",
   "execution_count": 11,
   "id": "37a7aa52-4ed3-42cc-990f-e4260bd0c32c",
   "metadata": {},
   "outputs": [
    {
     "data": {
      "text/plain": [
       "2.7100000"
      ]
     },
     "execution_count": 11,
     "metadata": {},
     "output_type": "execute_result"
    }
   ],
   "source": [
    "*ptr3"
   ]
  },
  {
   "cell_type": "markdown",
   "id": "a38d6b49-40f6-4075-8257-822a8bd23d96",
   "metadata": {},
   "source": [
    "***b. Const Pointers (the pointer cannot be amended)***"
   ]
  },
  {
   "cell_type": "code",
   "execution_count": 12,
   "id": "2b31618b-6826-4e87-9b1d-36c9c5d6e5c2",
   "metadata": {},
   "outputs": [],
   "source": [
    "int errorNumb=0;\n",
    "int *const curErr=&errorNumb;"
   ]
  },
  {
   "cell_type": "code",
   "execution_count": 13,
   "id": "5a38707f-2c9f-4b9d-b261-00ddbb99f55a",
   "metadata": {},
   "outputs": [
    {
     "data": {
      "text/plain": [
       "@0x7ffc5d478838"
      ]
     },
     "execution_count": 13,
     "metadata": {},
     "output_type": "execute_result"
    }
   ],
   "source": [
    "/* the address of the pointer could not be amended */\n",
    "curErr"
   ]
  },
  {
   "cell_type": "code",
   "execution_count": 14,
   "id": "6b195629-54de-43f5-89e1-9ebd5c64630d",
   "metadata": {},
   "outputs": [],
   "source": [
    "int anotherVar = 0;\n",
    "\n",
    "//curErr = &anotherVar;\n",
    "\n",
    "/*\n",
    "input_line_47:3:8: error: cannot assign to variable 'curErr' with const-qualified type 'int *const'\n",
    "curErr = &anotherVar;\n",
    "~~~~~~ ^\n",
    "input_line_19:3:12: note: variable 'curErr' declared const here\n",
    "*/"
   ]
  },
  {
   "cell_type": "markdown",
   "id": "31cee63f-4637-40de-8c86-dfc8545fffc5",
   "metadata": {},
   "source": [
    "***c. const pointers pointing to const values***"
   ]
  },
  {
   "cell_type": "code",
   "execution_count": 15,
   "id": "880f94fc-cf6f-40b3-90b7-2f232a710f41",
   "metadata": {},
   "outputs": [],
   "source": [
    "/* either \n",
    "    amending the pointer or \n",
    "    amending the value of the variable thru the pointer \n",
    "could cause error*/\n",
    "\n",
    "int c = 34;\n",
    "const int * const p = &c;"
   ]
  },
  {
   "cell_type": "code",
   "execution_count": null,
   "id": "31c607c8-f8be-4208-8403-5c91d9285fae",
   "metadata": {},
   "outputs": [],
   "source": []
  },
  {
   "cell_type": "markdown",
   "id": "d0294bf5-c421-4521-9f5c-f3f64c88ec57",
   "metadata": {},
   "source": [
    "#### 3. const with reference"
   ]
  },
  {
   "cell_type": "markdown",
   "id": "94a96360-7c20-4241-9208-2bed43f16c71",
   "metadata": {},
   "source": [
    "***a. reference to const***"
   ]
  },
  {
   "cell_type": "code",
   "execution_count": 16,
   "id": "43a035d7-0f35-47bc-bc07-8fc07aa7a8aa",
   "metadata": {},
   "outputs": [
    {
     "data": {
      "text/plain": [
       "8"
      ]
     },
     "execution_count": 16,
     "metadata": {},
     "output_type": "execute_result"
    }
   ],
   "source": [
    "/*\n",
    "reference to const cannot amend the value of the variable\n",
    "*/\n",
    "\n",
    "int ref = 0;\n",
    "int &ref1 = ref;\n",
    "const int &ref2 = ref;\n",
    "ref1 = 8;  // okay"
   ]
  },
  {
   "cell_type": "code",
   "execution_count": 17,
   "id": "ab755971-71fd-4cda-8edb-1c03ff6a6bf2",
   "metadata": {},
   "outputs": [],
   "source": [
    "// ref2 = 9;  // wrong\n",
    "\n",
    "/*\n",
    "input_line_34:2:7: error: cannot assign to variable 'ref2' with const-qualified type 'const int &'\n",
    " ref2 = 9;\n",
    " ~~~~ ^\n",
    "input_line_32:7:12: note: variable 'ref2' declared const here\n",
    "const int &ref2 = ref;\n",
    "~~~~~~~~~~~^~~~~~~~~~\n",
    "Interpreter Error: \n",
    "*/"
   ]
  },
  {
   "cell_type": "markdown",
   "id": "65b022e3-7b1b-404d-9674-1d7aa6f1b07a",
   "metadata": {},
   "source": [
    "***b. cannot refer to a const value using non-const reference***"
   ]
  },
  {
   "cell_type": "code",
   "execution_count": 18,
   "id": "73dae972-ad95-4f87-bf00-20d9b2b27bdf",
   "metadata": {},
   "outputs": [],
   "source": [
    "const int ci = 9;\n",
    "\n",
    "// int &a = ci; //wrong\n",
    "\n",
    "/*\n",
    "input_line_36:3:6: error: binding value of type 'const int' to reference to type 'int' drops 'const' qualifier\n",
    "int &a = ci;\n",
    "     ^   ~~\n",
    "Interpreter Error: \n",
    "*/"
   ]
  },
  {
   "cell_type": "code",
   "execution_count": null,
   "id": "fa9c38aa-5a50-49df-b057-b2fc0ce01aca",
   "metadata": {},
   "outputs": [],
   "source": []
  },
  {
   "cell_type": "markdown",
   "id": "44ce1e95-fa4d-4f12-b3cb-f65dd6f4b005",
   "metadata": {},
   "source": [
    "#### 4. const for class"
   ]
  },
  {
   "cell_type": "markdown",
   "id": "280afa85-6009-4ccf-b37e-00926f6dcc25",
   "metadata": {},
   "source": [
    "***a. reduce code duplication***"
   ]
  },
  {
   "cell_type": "code",
   "execution_count": 19,
   "id": "571c59b5-cf7d-4896-a069-e3ea476cc274",
   "metadata": {},
   "outputs": [],
   "source": [
    "class Student{\n",
    "private:\n",
    "    int age;\n",
    "\n",
    "public: \n",
    "    Student(int age_): age(age_){\n",
    "\n",
    "    }\n",
    "\n",
    "    const int getAge() const{\n",
    "        std::cout << \"calling const method\" << std::endl;\n",
    "        return this->age;\n",
    "    }\n",
    "\n",
    "    int getAge(){\n",
    "        std::cout << \"Non-oconst method calling const method\" << std::endl;\n",
    "        return static_cast<const Student&>(*this).getAge();\n",
    "    }\n",
    "};"
   ]
  },
  {
   "cell_type": "code",
   "execution_count": 20,
   "id": "2fa88467-6435-4721-9ef0-3c7116cfaa40",
   "metadata": {},
   "outputs": [
    {
     "name": "stdout",
     "output_type": "stream",
     "text": [
      "Non-oconst method calling const method\n",
      "calling const method\n",
      "10\n"
     ]
    }
   ],
   "source": [
    "Student std1 = Student(10);\n",
    "const Student std2 = Student(2);\n",
    "    \n",
    "std::cout << std1.getAge();\n",
    "std::cout << std::endl;"
   ]
  },
  {
   "cell_type": "code",
   "execution_count": 21,
   "id": "be9eb0fb-bd7b-4deb-96f9-be7fa1ecbd4f",
   "metadata": {},
   "outputs": [
    {
     "name": "stdout",
     "output_type": "stream",
     "text": [
      "calling const method\n",
      "2\n"
     ]
    }
   ],
   "source": [
    "std::cout << std2.getAge();\n",
    "std::cout << std::endl;"
   ]
  },
  {
   "cell_type": "markdown",
   "id": "ba754b92-a551-408f-aea7-7db32118dec9",
   "metadata": {},
   "source": [
    "***b. work with const objects***\n",
    "\n",
    "*const objects could only work with const method*"
   ]
  },
  {
   "cell_type": "code",
   "execution_count": 22,
   "id": "2720724a-d2b0-447f-a633-d7354d46006b",
   "metadata": {},
   "outputs": [],
   "source": [
    "class StudentD{\n",
    "private:\n",
    "    int age;\n",
    "public:\n",
    "    StudentD(int age_): age(age_){\n",
    "    }\n",
    "    \n",
    "    int getAge(){\n",
    "        return age;\n",
    "    }\n",
    "};"
   ]
  },
  {
   "cell_type": "code",
   "execution_count": 23,
   "id": "a1dc175a-2112-4cf1-a7ff-864785f13d5d",
   "metadata": {},
   "outputs": [],
   "source": [
    "const StudentD stdd = StudentD(20);\n",
    "// stdd.getAge()\n",
    "\n",
    "/*\n",
    "error: member function 'getAge' not viable: 'this' argument has type 'const __cling_N531::StudentD', but function is not marked const\n",
    "stdd.getAge()\n",
    "^~~~\n",
    "input_line_43:8:9: note: 'getAge' declared here\n",
    "    int getAge(){\n",
    "        ^\n",
    "*/"
   ]
  },
  {
   "cell_type": "markdown",
   "id": "808de200-38fb-4b4a-a1c1-d58da20dd2fa",
   "metadata": {},
   "source": [
    "***c. const qualifier stops the interface to modify the object***"
   ]
  },
  {
   "cell_type": "code",
   "execution_count": 24,
   "id": "fe340cde-5791-41a5-ba29-568fdb32e132",
   "metadata": {},
   "outputs": [],
   "source": [
    "class Getter{\n",
    "private:\n",
    "    int a;\n",
    "public: \n",
    "    Getter(int a_): a(a_){\n",
    "    }\n",
    "    \n",
    "    int & get(){\n",
    "        return a;\n",
    "    }\n",
    "};"
   ]
  },
  {
   "cell_type": "code",
   "execution_count": 25,
   "id": "d3e5aaf3-e0a8-4a01-9ae5-0b4bc6f72550",
   "metadata": {},
   "outputs": [
    {
     "data": {
      "text/plain": [
       "30"
      ]
     },
     "execution_count": 25,
     "metadata": {},
     "output_type": "execute_result"
    }
   ],
   "source": [
    "Getter getter = Getter(20);\n",
    "getter.get() = 30"
   ]
  },
  {
   "cell_type": "code",
   "execution_count": 26,
   "id": "d2cadaea-b632-453f-b95d-513d21dd04b1",
   "metadata": {},
   "outputs": [],
   "source": [
    "class ConstGetter{\n",
    "private:\n",
    "    int a;\n",
    "public: \n",
    "    ConstGetter(int a_): a(a_){\n",
    "    }\n",
    "    \n",
    "    const int & get() const{\n",
    "        return a;\n",
    "    }\n",
    "};"
   ]
  },
  {
   "cell_type": "code",
   "execution_count": 27,
   "id": "bae7eced-bccd-4e9a-b9fe-343eaad0797d",
   "metadata": {},
   "outputs": [
    {
     "data": {
      "text/plain": [
       "30"
      ]
     },
     "execution_count": 27,
     "metadata": {},
     "output_type": "execute_result"
    }
   ],
   "source": [
    "ConstGetter cgetter = ConstGetter(30);\n",
    "cgetter.get()"
   ]
  },
  {
   "cell_type": "code",
   "execution_count": 28,
   "id": "94cb57b6-71fe-416c-9c10-e7583d2d9b94",
   "metadata": {},
   "outputs": [],
   "source": [
    "// cgetter.get() = 40; //wrong\n",
    "\n",
    "/*\n",
    "input_line_64:2:16: error: cannot assign to return value because function 'get' returns a const value\n",
    " cgetter.get() = 40;\n",
    " ~~~~~~~~~~~~~ ^\n",
    "input_line_61:8:11: note: function 'get' which returns const-qualified type 'const int &' declared here\n",
    "    const int & get() const{\n",
    "          ^~~~~\n",
    "*/"
   ]
  },
  {
   "cell_type": "code",
   "execution_count": null,
   "id": "3043fd2a-ae32-4ffa-a62e-84334173c7a8",
   "metadata": {},
   "outputs": [],
   "source": []
  }
 ],
 "metadata": {
  "kernelspec": {
   "display_name": "C++11",
   "language": "C++11",
   "name": "xcpp11"
  },
  "language_info": {
   "codemirror_mode": "text/x-c++src",
   "file_extension": ".cpp",
   "mimetype": "text/x-c++src",
   "name": "c++",
   "version": "11"
  }
 },
 "nbformat": 4,
 "nbformat_minor": 5
}

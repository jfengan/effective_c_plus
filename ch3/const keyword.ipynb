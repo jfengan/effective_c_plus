{
 "cells": [
  {
   "cell_type": "code",
   "execution_count": 1,
   "id": "f79f147e-5f1e-4f3d-a03e-22ead7b6df9e",
   "metadata": {},
   "outputs": [],
   "source": [
    "#include <iostream>"
   ]
  },
  {
   "cell_type": "markdown",
   "id": "9b3c66a1-436c-470e-8be8-2296ec3829c9",
   "metadata": {},
   "source": [
    "#### 1. const qualifier for built-in types and array\n",
    "\n",
    "*There is no difference whether const is ahead of the type name or behind the type name*"
   ]
  },
  {
   "cell_type": "code",
   "execution_count": 2,
   "id": "059c9a7a-2d84-4495-a87f-f98fd241c2a2",
   "metadata": {},
   "outputs": [],
   "source": [
    "const int a = 30;"
   ]
  },
  {
   "cell_type": "code",
   "execution_count": 3,
   "id": "fa4e0e71-49a8-4402-83d7-379e4f30fbf4",
   "metadata": {},
   "outputs": [],
   "source": [
    "int const b = 30;"
   ]
  },
  {
   "cell_type": "code",
   "execution_count": 4,
   "id": "ae53690a-2fe4-4ce4-897d-a354e26c33e0",
   "metadata": {},
   "outputs": [],
   "source": [
    "/* Both the value of a and b could not be changed */\n",
    "\n",
    "// a = 40; wrong\n",
    "\n",
    "/*\n",
    "input_line_10:3:3: error: cannot assign to variable 'a' with const-qualified type 'const int'\n",
    "a = 40; wrong\n",
    "~ ^\n",
    "input_line_8:2:12: note: variable 'a' declared const here\n",
    " const int a = 30;\n",
    " ~~~~~~~~~~^~~~~~\n",
    "input_line_10:3:9: error: use of undeclared identifier 'wrong'\n",
    "a = 40; wrong\n",
    "        ^\n",
    "Interpreter Error: \n",
    "*/"
   ]
  },
  {
   "cell_type": "code",
   "execution_count": 5,
   "id": "0d33ddf2-adc6-438a-9de6-e24b0ad62d28",
   "metadata": {},
   "outputs": [],
   "source": [
    "/*\n",
    "Also the value under const qualifier should be initialized\n",
    "*/ \n",
    "\n",
    "//const int c;\n",
    "\n",
    "/*\n",
    "input_line_11:5:11: error: default initialization of an object of const type 'const int'\n",
    "const int c; wrong\n",
    "          ^\n",
    "            = 0\n",
    "input_line_11:5:14: error: use of undeclared identifier 'wrong'\n",
    "const int c; wrong\n",
    "             ^\n",
    "Interpreter Error: \n",
    "*/"
   ]
  },
  {
   "cell_type": "markdown",
   "id": "3d871385-468c-443a-a4c6-419b6c0b347b",
   "metadata": {},
   "source": [
    "#### 2. Const with pointers"
   ]
  },
  {
   "cell_type": "markdown",
   "id": "8115bf36-afc7-4509-bc9b-10c2060973b5",
   "metadata": {},
   "source": [
    "***a. Point to const values***"
   ]
  },
  {
   "cell_type": "code",
   "execution_count": 6,
   "id": "ee345bca-1641-4394-a08c-15d09ec06804",
   "metadata": {},
   "outputs": [],
   "source": [
    "const double pi = 3.1415926;\n",
    "const double *ptr1 = &pi;\n",
    "double const *ptr2 = &pi;"
   ]
  },
  {
   "cell_type": "code",
   "execution_count": 7,
   "id": "08d5a573-19cb-4c58-8ae5-81e7ca634180",
   "metadata": {},
   "outputs": [],
   "source": [
    "/* The value cannot be amended thru pointers*/\n",
    "\n",
    "// *ptr1=42;\n",
    "\n",
    "/*\n",
    "input_line_13:3:6: error: read-only variable is not assignable\n",
    "*ptr1=42;\n",
    "~~~~~^\n",
    "Interpreter Error: \n",
    "*/"
   ]
  },
  {
   "cell_type": "code",
   "execution_count": 8,
   "id": "183d5068-2505-421e-9185-73bbbdfd3bf5",
   "metadata": {},
   "outputs": [],
   "source": [
    "/*The const double * could also point to a double variant, but cannot amend the value\n",
    "*/\n",
    "double val = 3.14;\n",
    "const double * ptr3 = &val;"
   ]
  },
  {
   "cell_type": "code",
   "execution_count": 9,
   "id": "b4da170e-abe0-4580-b722-e7bc8f38eaea",
   "metadata": {},
   "outputs": [
    {
     "data": {
      "text/plain": [
       "3.1400000"
      ]
     },
     "execution_count": 9,
     "metadata": {},
     "output_type": "execute_result"
    }
   ],
   "source": [
    "*ptr3"
   ]
  },
  {
   "cell_type": "code",
   "execution_count": 10,
   "id": "05c73239-aeda-4ea8-9e19-f2e74f0205f6",
   "metadata": {},
   "outputs": [],
   "source": [
    "double e = 2.71;\n",
    "ptr3 = &e;"
   ]
  },
  {
   "cell_type": "code",
   "execution_count": 11,
   "id": "37a7aa52-4ed3-42cc-990f-e4260bd0c32c",
   "metadata": {},
   "outputs": [
    {
     "data": {
      "text/plain": [
       "2.7100000"
      ]
     },
     "execution_count": 11,
     "metadata": {},
     "output_type": "execute_result"
    }
   ],
   "source": [
    "*ptr3"
   ]
  },
  {
   "cell_type": "markdown",
   "id": "a38d6b49-40f6-4075-8257-822a8bd23d96",
   "metadata": {},
   "source": [
    "***b. Const Pointers (the pointer cannot be amended)***"
   ]
  },
  {
   "cell_type": "code",
   "execution_count": 12,
   "id": "2b31618b-6826-4e87-9b1d-36c9c5d6e5c2",
   "metadata": {},
   "outputs": [],
   "source": [
    "int errorNumb=0;\n",
    "int *const curErr=&errorNumb;"
   ]
  },
  {
   "cell_type": "code",
   "execution_count": 13,
   "id": "5a38707f-2c9f-4b9d-b261-00ddbb99f55a",
   "metadata": {},
   "outputs": [
    {
     "data": {
      "text/plain": [
       "@0x7ffd6694bba8"
      ]
     },
     "execution_count": 13,
     "metadata": {},
     "output_type": "execute_result"
    }
   ],
   "source": [
    "/* the address of the pointer could not be amended */\n",
    "curErr"
   ]
  },
  {
   "cell_type": "code",
   "execution_count": 14,
   "id": "6b195629-54de-43f5-89e1-9ebd5c64630d",
   "metadata": {},
   "outputs": [],
   "source": [
    "int anotherVar = 0;\n",
    "\n",
    "//curErr = &anotherVar;\n",
    "\n",
    "/*\n",
    "input_line_47:3:8: error: cannot assign to variable 'curErr' with const-qualified type 'int *const'\n",
    "curErr = &anotherVar;\n",
    "~~~~~~ ^\n",
    "input_line_19:3:12: note: variable 'curErr' declared const here\n",
    "*/"
   ]
  },
  {
   "cell_type": "markdown",
   "id": "31cee63f-4637-40de-8c86-dfc8545fffc5",
   "metadata": {},
   "source": [
    "***c. const pointers pointing to const values***"
   ]
  },
  {
   "cell_type": "code",
   "execution_count": 15,
   "id": "880f94fc-cf6f-40b3-90b7-2f232a710f41",
   "metadata": {},
   "outputs": [],
   "source": [
    "/* either \n",
    "    amending the pointer or \n",
    "    amending the value of the variable thru the pointer \n",
    "could cause error*/\n",
    "\n",
    "int c = 34;\n",
    "const int * const p = &c;"
   ]
  },
  {
   "cell_type": "code",
   "execution_count": null,
   "id": "31c607c8-f8be-4208-8403-5c91d9285fae",
   "metadata": {},
   "outputs": [],
   "source": []
  },
  {
   "cell_type": "markdown",
   "id": "d0294bf5-c421-4521-9f5c-f3f64c88ec57",
   "metadata": {},
   "source": [
    "#### 3. const with reference"
   ]
  },
  {
   "cell_type": "markdown",
   "id": "94a96360-7c20-4241-9208-2bed43f16c71",
   "metadata": {},
   "source": [
    "***a. reference to const***"
   ]
  },
  {
   "cell_type": "code",
   "execution_count": 19,
   "id": "43a035d7-0f35-47bc-bc07-8fc07aa7a8aa",
   "metadata": {},
   "outputs": [
    {
     "data": {
      "text/plain": [
       "8"
      ]
     },
     "execution_count": 19,
     "metadata": {},
     "output_type": "execute_result"
    }
   ],
   "source": [
    "/*\n",
    "reference to const cannot amend the value of the variable\n",
    "*/\n",
    "\n",
    "int ref = 0;\n",
    "int &ref1 = ref;\n",
    "const int &ref2 = ref;\n",
    "ref1 = 8;  // okay"
   ]
  },
  {
   "cell_type": "code",
   "execution_count": 21,
   "id": "ab755971-71fd-4cda-8edb-1c03ff6a6bf2",
   "metadata": {},
   "outputs": [],
   "source": [
    "// ref2 = 9;  // wrong\n",
    "\n",
    "/*\n",
    "input_line_34:2:7: error: cannot assign to variable 'ref2' with const-qualified type 'const int &'\n",
    " ref2 = 9;\n",
    " ~~~~ ^\n",
    "input_line_32:7:12: note: variable 'ref2' declared const here\n",
    "const int &ref2 = ref;\n",
    "~~~~~~~~~~~^~~~~~~~~~\n",
    "Interpreter Error: \n",
    "*/"
   ]
  },
  {
   "cell_type": "markdown",
   "id": "65b022e3-7b1b-404d-9674-1d7aa6f1b07a",
   "metadata": {},
   "source": [
    "***b. cannot refer to a const value using non-const reference***"
   ]
  },
  {
   "cell_type": "code",
   "execution_count": 23,
   "id": "73dae972-ad95-4f87-bf00-20d9b2b27bdf",
   "metadata": {},
   "outputs": [],
   "source": [
    "const int ci = 9;\n",
    "\n",
    "// int &a = ci; //wrong\n",
    "\n",
    "/*\n",
    "input_line_36:3:6: error: binding value of type 'const int' to reference to type 'int' drops 'const' qualifier\n",
    "int &a = ci;\n",
    "     ^   ~~\n",
    "Interpreter Error: \n",
    "*/"
   ]
  },
  {
   "cell_type": "code",
   "execution_count": null,
   "id": "fa9c38aa-5a50-49df-b057-b2fc0ce01aca",
   "metadata": {},
   "outputs": [],
   "source": []
  },
  {
   "cell_type": "markdown",
   "id": "44ce1e95-fa4d-4f12-b3cb-f65dd6f4b005",
   "metadata": {},
   "source": [
    "#### 4. const for class"
   ]
  },
  {
   "cell_type": "code",
   "execution_count": null,
   "id": "2be2d0c2-a661-4812-98a5-a45a07f16f56",
   "metadata": {},
   "outputs": [],
   "source": []
  }
 ],
 "metadata": {
  "kernelspec": {
   "display_name": "C++11",
   "language": "C++11",
   "name": "xcpp11"
  },
  "language_info": {
   "codemirror_mode": "text/x-c++src",
   "file_extension": ".cpp",
   "mimetype": "text/x-c++src",
   "name": "c++",
   "version": "11"
  }
 },
 "nbformat": 4,
 "nbformat_minor": 5
}
